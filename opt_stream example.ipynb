{
 "cells": [
  {
   "cell_type": "code",
   "execution_count": 1,
   "metadata": {},
   "outputs": [],
   "source": [
    "import numpy as np\n",
    "from gurobipy import *\n",
    "\n",
    "prng = np.random.RandomState(123)"
   ]
  },
  {
   "cell_type": "code",
   "execution_count": 2,
   "metadata": {},
   "outputs": [],
   "source": [
    "def chunks(l, n):\n",
    "    \"\"\"Yield successive n-sized chunks from l.\"\"\"\n",
    "    for i in range(0, len(l), n):\n",
    "        #yield l[i:i + n]\n",
    "        yield slice(i,i+n)\n",
    "\n",
    "def torange(item):\n",
    "    return list(range(item.start, item.stop, item.step if item.step is not None else 1))"
   ]
  },
  {
   "cell_type": "markdown",
   "metadata": {},
   "source": [
    "The data and the Feature queries"
   ]
  },
  {
   "cell_type": "code",
   "execution_count": 3,
   "metadata": {},
   "outputs": [],
   "source": [
    "x = [10, 15, 20, 23, 41, 72, 55, 50, 88, 72, 40, 18, 10, 9, 23, 32]\n",
    "n = len(x)\n",
    "\n",
    "# number of subfeatures\n",
    "p = 3\n",
    "\n",
    "# Feature queries\n",
    "F1 = list(chunks(range(n), n))\n",
    "F2 = list(chunks(range(n), 4))\n",
    "F3 = list(chunks(range(n), 1))\n",
    "\n",
    "x1_q = np.sum([x[f] for f in F1],axis=1)\n",
    "x2_q = np.sum([x[f] for f in F2],axis=1)\n",
    "x3_q = np.sum([x[f] for f in F3],axis=1)"
   ]
  },
  {
   "cell_type": "code",
   "execution_count": 4,
   "metadata": {},
   "outputs": [
    {
     "name": "stdout",
     "output_type": "stream",
     "text": [
      "x1: 578\n",
      "x2: 68, 218, 218, 74\n",
      "x3: 10, 15, 20, 23, 41, 72, 55, 50, 88, 72, 40, 18, 10, 9, 23, 32\n"
     ]
    }
   ],
   "source": [
    "print('x1: %s' % ', '.join(map(str, x1_q)))\n",
    "print('x2: %s' % ', '.join(map(str, x2_q)))\n",
    "print('x3: %s' % ', '.join(map(str, x3_q)))"
   ]
  },
  {
   "cell_type": "code",
   "execution_count": 5,
   "metadata": {},
   "outputs": [],
   "source": [
    "eps = 1.0\n",
    "deltaQ = 1\n",
    "\n",
    "x1_lap = x1_q + prng.laplace(scale=deltaQ/eps, size=len(x1_q))\n",
    "x2_lap = x2_q + prng.laplace(scale=deltaQ/eps, size=len(x2_q))\n",
    "x3_lap = x3_q + prng.laplace(scale=deltaQ/eps, size=len(x3_q))"
   ]
  },
  {
   "cell_type": "code",
   "execution_count": 6,
   "metadata": {},
   "outputs": [
    {
     "name": "stdout",
     "output_type": "stream",
     "text": [
      "Lap x1: 578.5\n",
      "Lap x2: 67.44, 217.21, 218.11, 74.58\n",
      "Lap x3: 9.83, 18.26, 20.46, 22.96, 40.76, 71.62, 55.61, 49.87, 85.87, 71.77, 40.65, 16.99, 8.95, 9.07, 23.07, 32.31\n"
     ]
    }
   ],
   "source": [
    "print('Lap x1: %s' % ', '.join(map(str, np.round(x1_lap,2))))\n",
    "print('Lap x2: %s' % ', '.join(map(str, np.round(x2_lap,2))))\n",
    "print('Lap x3: %s' % ', '.join(map(str, np.round(x3_lap,2))))"
   ]
  },
  {
   "cell_type": "code",
   "execution_count": 7,
   "metadata": {},
   "outputs": [
    {
     "name": "stdout",
     "output_type": "stream",
     "text": [
      "Academic license - for non-commercial use only\n"
     ]
    }
   ],
   "source": [
    "opt_type = GRB.CONTINUOUS\n",
    "# The size of the paritions\n",
    "m1, m2, m3 = len(x1_lap), len(x2_lap), len(x3_lap)\n",
    "model = Model()\n",
    "\n",
    "# Variables\n",
    "x1_dot = model.addVars(m1, lb=[0]*m1, vtype=opt_type)  # 1\n",
    "x2_dot = model.addVars(m2, lb=[0]*m2, vtype=opt_type)  # 4\n",
    "x3_dot = model.addVars(m3, lb=[0]*m3, vtype=opt_type)  # 16\n",
    "\n",
    "# Constraints\n",
    "model.addConstr(quicksum(x3_dot) == x1_dot[0]) \n",
    "model.addConstr(quicksum(x2_dot) == x1_dot[0])\n",
    "\n",
    "# Equality constraints between x3 groups and x2\n",
    "for i in range(m2):\n",
    "    model.addConstr(quicksum(x3_dot.values()[F2[i]]) == x2_dot[i])\n",
    "\n",
    "# Objective\n",
    "obj = 1/m1 * (x1_dot[0] - x1_lap[0]) * (x1_dot[0] - x1_lap[0])\n",
    "for i in range(m2):\n",
    "    obj += 1/m2 * (x2_dot[i] - x2_lap[i]) * (x2_dot[i] - x2_lap[i])\n",
    "for i in range(m3):\n",
    "    obj += 1/m3 * (x3_dot[i] - x3_lap[i]) * (x3_dot[i] - x3_lap[i])\n",
    "\n",
    "# Solve\n",
    "model.setObjective(obj)\n",
    "model.setParam('OutputFlag', False)\n",
    "model.setParam('OptimalityTol', 1e-6)\n",
    "model.optimize()"
   ]
  },
  {
   "cell_type": "code",
   "execution_count": 8,
   "metadata": {},
   "outputs": [
    {
     "name": "stdout",
     "output_type": "stream",
     "text": [
      "Hat x1: 578\n",
      "Hat x2: 68, 218, 218, 75\n",
      "Hat x3: 9, 17, 20, 22, 41, 72, 56, 50, 87, 73, 41, 18, 9, 9, 23, 33\n"
     ]
    }
   ],
   "source": [
    "x1_hat = np.round([x1_dot[i].x for i in range(m1)]).astype(int)\n",
    "x2_hat = np.round([x2_dot[i].x for i in range(m2)]).astype(int)\n",
    "x3_hat = np.round([x3_dot[i].x for i in range(m3)]).astype(int)\n",
    "               \n",
    "print('Hat x1: %s' % ', '.join(map(str, x1_hat)))\n",
    "print('Hat x2: %s' % ', '.join(map(str, x2_hat)))\n",
    "print('Hat x3: %s' % ', '.join(map(str, x3_hat)))"
   ]
  },
  {
   "cell_type": "code",
   "execution_count": 9,
   "metadata": {},
   "outputs": [
    {
     "name": "stdout",
     "output_type": "stream",
     "text": [
      "L2 Err Lap 4.32\n",
      "L2 Err HAt 3.46\n"
     ]
    }
   ],
   "source": [
    "print('L2 Err Lap %.2f' % np.linalg.norm(x3_lap - x, 2))\n",
    "print('L2 Err HAt %.2f' % np.linalg.norm(x3_hat - x, 2))"
   ]
  },
  {
   "cell_type": "code",
   "execution_count": null,
   "metadata": {},
   "outputs": [],
   "source": []
  }
 ],
 "metadata": {
  "kernelspec": {
   "display_name": "Python 3",
   "language": "python",
   "name": "python3"
  },
  "language_info": {
   "codemirror_mode": {
    "name": "ipython",
    "version": 3
   },
   "file_extension": ".py",
   "mimetype": "text/x-python",
   "name": "python",
   "nbconvert_exporter": "python",
   "pygments_lexer": "ipython3",
   "version": "3.6.7"
  }
 },
 "nbformat": 4,
 "nbformat_minor": 2
}
